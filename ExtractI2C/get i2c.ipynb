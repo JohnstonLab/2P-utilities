{
 "cells": [
  {
   "cell_type": "code",
   "execution_count": null,
   "metadata": {},
   "outputs": [],
   "source": [
    "from respiration3 import *\n",
    "%matplotlib qt\n",
    "\n",
    "dirpath=\"C:/Users/pathToFiles\"\n",
    "fnames = getTifListsFull(dirpath)\n",
    "\n",
    "# fnames.pop(0)\n",
    "# fnames.pop(-1)\n",
    "\n",
    "fnames"
   ]
  },
  {
   "cell_type": "code",
   "execution_count": null,
   "metadata": {},
   "outputs": [],
   "source": [
    "######## a single file\n",
    "\n",
    "I2C_array = extractI2CfromSingleFile(fnames[0])\n",
    "print(I2C_array.shape)\n",
    "respirationI2C = I2C_array[:,2]\n",
    "timestampsI2C = I2C_array[:,1]\n",
    "valves = I2C_array[:,4]\n",
    "\n",
    "plt.figure(56568)\n",
    "plt.plot(timestampsI2C, respirationI2C)\n",
    "plt.plot(valves)"
   ]
  },
  {
   "cell_type": "code",
   "execution_count": null,
   "metadata": {},
   "outputs": [],
   "source": [
    "########## from files in a dir\n",
    "\n",
    "# I2C_array = extractI2CfromFilesDir(dirpath)\n",
    "I2C_array = extractI2CfromFilesList(fnames);\n",
    "print(I2C_array.shape)\n",
    "respirationI2C = I2C_array[:,2];\n",
    "timestampsI2C = I2C_array[:,1];\n",
    "valves = I2C_array[:,4];\n",
    "\n",
    "plt.figure(7777778);\n",
    "plt.plot(timestampsI2C,respirationI2C);\n",
    "plt.plot(valves);"
   ]
  },
  {
   "cell_type": "code",
   "execution_count": null,
   "metadata": {},
   "outputs": [],
   "source": [
    "####### interpolate i2c signals from fnames with frames times\n",
    "\n",
    "timestampsScanImage=getTimestampsScanImageFromList(fnames);\n",
    "respiration = interpolateTime(respirationI2C,timestampsI2C,timestampsScanImage); #respiration is same lenght as number of frames now\n",
    "valveTimes = interpolateTime(valves,timestampsI2C,timestampsScanImage);\n",
    "#compare\n",
    "plt.figure(888898);\n",
    "plt.plot(timestampsI2C,respirationI2C,label=\"original\");\n",
    "plt.plot(timestampsScanImage,respiration,label=\"resampled\");\n",
    "plt.legend()"
   ]
  },
  {
   "cell_type": "code",
   "execution_count": 8,
   "metadata": {},
   "outputs": [],
   "source": [
    "####### use this to save as txt any numpy arrays\n",
    "\n",
    "save2DArray2txt(I2C_array,dirpath,\"i2c_all\") # for 2-d array\n",
    "np.savetxt(dirpath+\"/resampled_respiration.txt\",respiration) # for 1-d array\n",
    "np.savetxt(dirpath+\"/resampled_timestamps.txt\",timestampsScanImage) # for 1-d array\n",
    "np.savetxt(dirpath+\"/i2c_respiration.txt\",respirationI2C) # for 1-d array\n",
    "np.savetxt(dirpath+\"/i2c_timestamps.txt\",timestampsI2C) # for 1-d array\n",
    "np.savetxt(dirpath+\"/Valves_timestamps.txt\",valveTimes) # for 1-d array"
   ]
  },
  {
   "cell_type": "code",
   "execution_count": null,
   "metadata": {},
   "outputs": [],
   "source": []
  }
 ],
 "metadata": {
  "kernelspec": {
   "display_name": "Python 3",
   "language": "python",
   "name": "python3"
  },
  "language_info": {
   "codemirror_mode": {
    "name": "ipython",
    "version": 3
   },
   "file_extension": ".py",
   "mimetype": "text/x-python",
   "name": "python",
   "nbconvert_exporter": "python",
   "pygments_lexer": "ipython3",
   "version": "3.6.7"
  },
  "varInspector": {
   "cols": {
    "lenName": 16,
    "lenType": 16,
    "lenVar": 40
   },
   "kernels_config": {
    "python": {
     "delete_cmd_postfix": "",
     "delete_cmd_prefix": "del ",
     "library": "var_list.py",
     "varRefreshCmd": "print(var_dic_list())"
    },
    "r": {
     "delete_cmd_postfix": ") ",
     "delete_cmd_prefix": "rm(",
     "library": "var_list.r",
     "varRefreshCmd": "cat(var_dic_list()) "
    }
   },
   "types_to_exclude": [
    "module",
    "function",
    "builtin_function_or_method",
    "instance",
    "_Feature"
   ],
   "window_display": false
  }
 },
 "nbformat": 4,
 "nbformat_minor": 2
}
