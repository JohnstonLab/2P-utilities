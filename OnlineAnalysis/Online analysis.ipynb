{
 "cells": [
  {
   "cell_type": "markdown",
   "id": "e82cfbbd",
   "metadata": {},
   "source": [
    "# Online anlaysis for loop experiments"
   ]
  },
  {
   "cell_type": "code",
   "execution_count": 1,
   "id": "4d50205e-09c4-4fb7-86cc-dd2581dcab0c",
   "metadata": {},
   "outputs": [],
   "source": [
    "import numpy as np\n",
    "import matplotlib.pyplot as plt\n",
    "import glob\n",
    "from ScanImageTiffReader import ScanImageTiffReader\n",
    "from roipoly import MultiRoi\n",
    "from scipy.ndimage import mean \n",
    "import scipy.signal as signal\n",
    "import asyncio\n",
    "import ipywidgets as widgets\n",
    "import matplotlib.animation as anim\n",
    "\n",
    "\n",
    "def AOIselector(imageIn):\n",
    "    ### imagIn expected to be single frame###\n",
    "    %matplotlib \n",
    "    plt.imshow(imageIn)\n",
    "    plt.show()\n",
    "    my_rois = MultiRoi(roi_names=['region to keep'])\n",
    "    %matplotlib inline\n",
    "\n",
    "    BulbMask = my_rois.rois['region to keep'].get_mask(imageIn)\n",
    "#     BulbMask+=my_rois.rois['bulb2'].get_mask(imageIn)\n",
    "    return BulbMask\n"
   ]
  },
  {
   "cell_type": "markdown",
   "id": "8edb7dd7",
   "metadata": {},
   "source": [
    "## change directory to your newly created folder"
   ]
  },
  {
   "cell_type": "code",
   "execution_count": 2,
   "id": "6a3f7368-66ad-4e28-be13-976f616a4776",
   "metadata": {},
   "outputs": [
    {
     "name": "stdout",
     "output_type": "stream",
     "text": [
      "D:\\ScanimageData\\Test\n"
     ]
    }
   ],
   "source": [
    "%cd D:\\ScanimageData\\Test"
   ]
  },
  {
   "cell_type": "markdown",
   "id": "742403f1",
   "metadata": {},
   "source": [
    "## 1st run a single trail to define the ROI\n",
    "- then draw your roi in the pop up window"
   ]
  },
  {
   "cell_type": "code",
   "execution_count": 3,
   "id": "93be6ffa-9cee-4cfa-bf84-62ea542e1978",
   "metadata": {},
   "outputs": [],
   "source": [
    "%matplotlib inline\n",
    "\n",
    "global oldfiles\n",
    "old_files = glob.glob('*.tif')\n",
    "vol=ScanImageTiffReader(old_files[0]).data();\n",
    "imMean = np.mean(vol,axis=0)\n",
    "mask=AOIselector(imMean)\n",
    "fig1, ax = plt.subplot_mosaic([\n",
    "    ['image','trace'],]\n",
    "    ,constrained_layout=True,figsize=(10,6))\n",
    "\n",
    "ax['image'].imshow(imMean)\n",
    "ax['image'].axis('off')\n",
    "global roi\n",
    "roi = np.ma.masked_where(mask == 0,mask)\n",
    "ax['image'].imshow(roi,alpha=0.2,cmap='Reds')\n",
    "trace = np.zeros(vol.shape[0])\n",
    "for i in range(vol.shape[0]):\n",
    "    trace[i]=mean(vol[i,:,:],labels=mask,)\n",
    "trace = signal.savgol_filter(trace,17,3)\n",
    "ax['trace'].plot(trace)"
   ]
  },
  {
   "cell_type": "markdown",
   "id": "f4511ee5",
   "metadata": {},
   "source": [
    "### then run the next cell to generate the figure which will start to update as files are acquired\n",
    "- you can minimise this jupyter window but do not close it"
   ]
  },
  {
   "cell_type": "code",
   "execution_count": 6,
   "id": "85cd29e3",
   "metadata": {},
   "outputs": [
    {
     "name": "stdout",
     "output_type": "stream",
     "text": [
      "Using matplotlib backend: QtAgg\n"
     ]
    }
   ],
   "source": [
    "%matplotlib \n",
    "fig, ax = plt.subplot_mosaic([\n",
    "    ['image','trace'],\n",
    "    ['TC','TC'],\n",
    "],constrained_layout=True,figsize=(10,6))\n",
    "\n",
    "ax['image'].imshow(imMean)\n",
    "ax['image'].axis('off')\n",
    "global roi\n",
    "ax['image'].imshow(roi,alpha=0.2,cmap='Reds')\n",
    "\n",
    "trace = np.zeros(vol.shape[0])\n",
    "for i in range(vol.shape[0]):\n",
    "    trace[i]=mean(vol[i,:,:],labels=mask,)\n",
    "trace = signal.savgol_filter(trace,17,3)\n",
    "ax['trace'].plot(trace)\n",
    "global amp\n",
    "amp = []\n",
    "amp.append(np.max(trace))\n",
    "ax['TC'].plot(amp,'o')\n",
    "\n",
    "\n",
    "def animate(i):\n",
    "    global amp\n",
    "    global roi\n",
    "    global old_files\n",
    "    current_files=glob.glob('*.tif')\n",
    "    if len(current_files) > len(old_files) and len(current_files)>3:\n",
    "        vol=ScanImageTiffReader(current_files[-2]).data()\n",
    "        curr_Mean = np.mean(vol,axis=0)\n",
    "        curr_trace = np.zeros(vol.shape[0])\n",
    "        for i in range(vol.shape[0]):\n",
    "            curr_trace[i]=mean(vol[i,:,:],labels=mask,)\n",
    "        curr_trace = signal.savgol_filter(curr_trace,17,3)\n",
    "        amp.append(np.max(curr_trace))\n",
    "\n",
    "        ax['image'].clear()\n",
    "        ax['image'].imshow(curr_Mean)\n",
    "        ax['image'].imshow(roi,alpha=0.2,cmap='Reds')\n",
    "        ax['trace'].clear()\n",
    "        ax['trace'].plot(trace)\n",
    "        ax['trace'].plot(curr_trace)\n",
    "        ax['TC'].clear()\n",
    "        ax['TC'].plot(amp,'o')\n",
    "        del vol\n",
    "        old_files = current_files\n",
    "          \n",
    "ani = anim.FuncAnimation(fig,animate,interval=2000)\n",
    "plt.show()"
   ]
  }
 ],
 "metadata": {
  "kernelspec": {
   "display_name": "Python 3 (ipykernel)",
   "language": "python",
   "name": "python3"
  },
  "language_info": {
   "codemirror_mode": {
    "name": "ipython",
    "version": 3
   },
   "file_extension": ".py",
   "mimetype": "text/x-python",
   "name": "python",
   "nbconvert_exporter": "python",
   "pygments_lexer": "ipython3",
   "version": "3.9.12"
  }
 },
 "nbformat": 4,
 "nbformat_minor": 5
}
