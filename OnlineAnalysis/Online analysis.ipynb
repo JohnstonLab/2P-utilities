{
 "cells": [
  {
   "cell_type": "code",
   "execution_count": 1,
   "id": "4d50205e-09c4-4fb7-86cc-dd2581dcab0c",
   "metadata": {},
   "outputs": [],
   "source": [
    "import numpy as np\n",
    "import matplotlib.pyplot as plt\n",
    "import glob\n",
    "from ScanImageTiffReader import ScanImageTiffReader\n",
    "from roipoly import MultiRoi\n",
    "from scipy.ndimage import mean \n",
    "import scipy.signal as signal\n",
    "import asyncio\n",
    "import ipywidgets as widgets\n",
    "import matplotlib.animation as anim\n",
    "\n",
    "\n",
    "def AOIselector(imageIn):\n",
    "    ### imagIn expected to be single frame###\n",
    "    %matplotlib \n",
    "    plt.imshow(imageIn)\n",
    "    plt.show()\n",
    "    my_rois = MultiRoi(roi_names=['region to keep'])\n",
    "    %matplotlib inline\n",
    "\n",
    "    BulbMask = my_rois.rois['region to keep'].get_mask(imageIn)\n",
    "#     BulbMask+=my_rois.rois['bulb2'].get_mask(imageIn)\n",
    "    return BulbMask\n"
   ]
  },
  {
   "cell_type": "markdown",
   "id": "c07d5288",
   "metadata": {},
   "source": [
    "## change directory to your newly created folder"
   ]
  },
  {
   "cell_type": "code",
   "execution_count": 2,
   "id": "6a3f7368-66ad-4e28-be13-976f616a4776",
   "metadata": {},
   "outputs": [
    {
     "name": "stdout",
     "output_type": "stream",
     "text": [
      "D:\\ScanimageData\\Test\n"
     ]
    }
   ],
   "source": [
    "%cd D:\\ScanimageData\\Test"
   ]
  },
  {
   "cell_type": "markdown",
   "id": "f75d5e89",
   "metadata": {},
   "source": [
    "## 1st run a single trail to define the ROI\n",
    "- then draw your roi in the pop up window"
   ]
  },
  {
   "cell_type": "code",
   "execution_count": 3,
   "id": "93be6ffa-9cee-4cfa-bf84-62ea542e1978",
   "metadata": {},
   "outputs": [],
   "source": [
    "global oldfiles\n",
    "old_files = glob.glob('*.tif')\n",
    "vol=ScanImageTiffReader(old_files[0]).data();\n",
    "imMean = np.mean(vol,axis=0)\n",
    "mask=AOIselector(imMean)\n",
    "fig1, ax = plt.subplot_mosaic([\n",
    "    ['image','trace'],]\n",
    "    ,constrained_layout=True,figsize=(10,6))\n",
    "\n",
    "ax['image'].imshow(imMean)\n",
    "ax['image'].axis('off')\n",
    "global roi\n",
    "roi = np.ma.masked_where(mask == 0,mask)\n",
    "ax['image'].imshow(roi,alpha=0.2,cmap='Reds')\n",
    "trace = np.zeros(vol.shape[0])\n",
    "for i in range(vol.shape[0]):\n",
    "    trace[i]=mean(vol[i,:,:],labels=mask,)\n",
    "trace = signal.savgol_filter(trace,17,3)\n",
    "ax['trace'].plot(trace)"
   ]
  },
  {
   "cell_type": "code",
   "execution_count": 6,
   "id": "85cd29e3",
   "metadata": {},
   "outputs": [
    {
     "name": "stdout",
     "output_type": "stream",
     "text": [
      "Using matplotlib backend: QtAgg\n"
     ]
    }
   ],
   "source": [
    "%matplotlib \n",
    "fig, ax = plt.subplot_mosaic([\n",
    "    ['image','trace'],\n",
    "    ['TC','TC'],\n",
    "],constrained_layout=True,figsize=(10,6))\n",
    "\n",
    "ax['image'].imshow(imMean)\n",
    "ax['image'].axis('off')\n",
    "global roi\n",
    "roi = np.ma.masked_where(mask == 0,mask)\n",
    "ax['image'].imshow(roi,alpha=0.2,cmap='Reds')\n",
    "\n",
    "trace = np.zeros(vol.shape[0])\n",
    "for i in range(vol.shape[0]):\n",
    "    trace[i]=mean(vol[i,:,:],labels=mask,)\n",
    "trace = signal.savgol_filter(trace,17,3)\n",
    "ax['trace'].plot(trace)\n",
    "global amp\n",
    "amp = []\n",
    "amp.append(np.max(trace))\n",
    "ax['TC'].plot(amp,'o')\n",
    "\n",
    "\n",
    "def animate(i):\n",
    "    global amp\n",
    "    global roi\n",
    "    global old_files\n",
    "    current_files=glob.glob('*.tif')\n",
    "    if len(current_files) > len(old_files) and len(current_files)>3:\n",
    "        vol=ScanImageTiffReader(current_files[-2]).data()\n",
    "        curr_Mean = np.mean(vol,axis=0)\n",
    "        curr_trace = np.zeros(vol.shape[0])\n",
    "        for i in range(vol.shape[0]):\n",
    "            curr_trace[i]=mean(vol[i,:,:],labels=mask,)\n",
    "        curr_trace = signal.savgol_filter(curr_trace,17,3)\n",
    "        amp.append(np.max(curr_trace))\n",
    "\n",
    "        ax['image'].clear()\n",
    "        ax['image'].imshow(imMean)\n",
    "        ax['image'].imshow(roi,alpha=0.2,cmap='Reds')\n",
    "        ax['trace'].clear()\n",
    "        ax['trace'].plot(trace)\n",
    "        ax['trace'].plot(curr_trace)\n",
    "        ax['TC'].clear()\n",
    "        ax['TC'].plot(amp,'o')\n",
    "        del vol\n",
    "        old_files = current_files\n",
    "        \n",
    "\n",
    "            \n",
    "ani = anim.FuncAnimation(fig,animate,interval=2000)\n",
    "plt.show()\n",
    "        \n",
    "        \n"
   ]
  },
  {
   "cell_type": "code",
   "execution_count": 14,
   "id": "eaa26046-3f57-41d8-afef-54727231395e",
   "metadata": {},
   "outputs": [],
   "source": [
    "# async def online_analysis():\n",
    "#     global running\n",
    "#     running = True\n",
    "#     while running == True:\n",
    "#         current_files=glob.glob('*.tif')\n",
    "#         if len(current_files) > len(old_files) and len(current_files)>3:\n",
    "#             vol=ScanImageTiffReader(current_files[-2]).data()\n",
    "#             curr_Mean = np.mean(vol,axis=0)\n",
    "#             curr_trace = np.zeros(vol.shape[0])\n",
    "#             for i in range(vol.shape[0]):\n",
    "#                 curr_trace[i]=mean(vol[i,:,:],labels=mask,)\n",
    "#             curr_trace = signal.savgol_filter(curr_trace,17,3)\n",
    "#             amp.append(np.max(curr_trace))\n",
    "#             del vol\n",
    "#             old_files = current_files\n",
    "#             print('running')\n",
    "#         await asyncio.sleep(5)\n",
    "#         if running:\n",
    "#             pass\n",
    "#         else:\n",
    "#             return\n",
    "\n",
    "# def stop():\n",
    "#     global running\n",
    "#     running = False\n",
    "\n",
    "# def run_analysis():\n",
    "#     asyncio.ensure_future(online_analysis())"
   ]
  },
  {
   "cell_type": "code",
   "execution_count": 7,
   "id": "ff6ba9c2-8170-4898-843b-61eecfca513e",
   "metadata": {},
   "outputs": [
    {
     "data": {
      "application/vnd.jupyter.widget-view+json": {
       "model_id": "582c6b337c7e410f8447fe39f9f115cc",
       "version_major": 2,
       "version_minor": 0
      },
      "text/plain": [
       "Button(description='Start', style=ButtonStyle())"
      ]
     },
     "metadata": {},
     "output_type": "display_data"
    },
    {
     "data": {
      "application/vnd.jupyter.widget-view+json": {
       "model_id": "882f04e9fac843b295d9c46fdcf0ffac",
       "version_major": 2,
       "version_minor": 0
      },
      "text/plain": [
       "Button(description='Stop', style=ButtonStyle())"
      ]
     },
     "metadata": {},
     "output_type": "display_data"
    },
    {
     "name": "stdout",
     "output_type": "stream",
     "text": [
      "running\n",
      "running\n",
      "running\n",
      "running\n",
      "running\n",
      "running\n",
      "running\n",
      "running\n",
      "running\n",
      "running\n",
      "running\n",
      "running\n",
      "running\n",
      "running\n",
      "running\n",
      "running\n",
      "running\n",
      "running\n",
      "running\n",
      "running\n"
     ]
    },
    {
     "name": "stderr",
     "output_type": "stream",
     "text": [
      "C:\\Users\\johnstonlab\\AppData\\Local\\Temp\\ipykernel_4192\\359429026.py:37: RuntimeWarning: More than 20 figures have been opened. Figures created through the pyplot interface (`matplotlib.pyplot.figure`) are retained until explicitly closed and may consume too much memory. (To control this warning, see the rcParam `figure.max_open_warning`).\n",
      "  fig, ax = plt.subplot_mosaic([\n"
     ]
    },
    {
     "name": "stdout",
     "output_type": "stream",
     "text": [
      "running\n",
      "running\n",
      "running\n",
      "running\n",
      "running\n",
      "running\n",
      "running\n",
      "running\n",
      "running\n",
      "running\n",
      "running\n",
      "running\n",
      "running\n",
      "running\n",
      "running\n",
      "running\n",
      "running\n",
      "running\n",
      "running\n",
      "running\n",
      "running\n",
      "running\n",
      "running\n",
      "running\n",
      "running\n",
      "running\n",
      "running\n",
      "running\n",
      "running\n",
      "running\n",
      "running\n",
      "running\n",
      "running\n",
      "running\n",
      "running\n",
      "running\n",
      "running\n",
      "running\n",
      "running\n",
      "running\n",
      "running\n",
      "running\n",
      "running\n",
      "running\n",
      "running\n",
      "running\n",
      "running\n",
      "running\n",
      "running\n",
      "running\n",
      "running\n",
      "running\n",
      "running\n",
      "running\n",
      "running\n",
      "running\n",
      "running\n",
      "running\n",
      "running\n",
      "running\n",
      "running\n",
      "running\n",
      "running\n",
      "running\n",
      "running\n",
      "running\n",
      "running\n",
      "running\n",
      "running\n",
      "running\n",
      "running\n",
      "running\n",
      "running\n",
      "running\n",
      "running\n",
      "running\n",
      "running\n",
      "running\n"
     ]
    }
   ],
   "source": [
    "button_start = widgets.Button(description=\"Start\")\n",
    "def on_buttonStart_clicked(b):\n",
    "    run_analysis()\n",
    "button_start.on_click(on_buttonStart_clicked)\n",
    "\n",
    "button_stop = widgets.Button(description=\"Stop\")\n",
    "def on_buttonStop_clicked(b):\n",
    "    stop()\n",
    "button_stop.on_click(on_buttonStop_clicked)\n",
    "\n",
    "display(button_start, button_stop)"
   ]
  },
  {
   "cell_type": "code",
   "execution_count": null,
   "id": "b95bce7f-f609-42a1-9de0-58fcc3b73427",
   "metadata": {},
   "outputs": [],
   "source": []
  }
 ],
 "metadata": {
  "kernelspec": {
   "display_name": "Python 3 (ipykernel)",
   "language": "python",
   "name": "python3"
  },
  "language_info": {
   "codemirror_mode": {
    "name": "ipython",
    "version": 3
   },
   "file_extension": ".py",
   "mimetype": "text/x-python",
   "name": "python",
   "nbconvert_exporter": "python",
   "pygments_lexer": "ipython3",
   "version": "3.9.12"
  }
 },
 "nbformat": 4,
 "nbformat_minor": 5
}
